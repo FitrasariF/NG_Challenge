{
 "cells": [
  {
   "cell_type": "markdown",
   "id": "046918a9",
   "metadata": {},
   "source": [
    "# NG6 Fitrasari"
   ]
  },
  {
   "cell_type": "markdown",
   "id": "75d5c970",
   "metadata": {},
   "source": [
    "## Nomor 1"
   ]
  },
  {
   "cell_type": "markdown",
   "id": "d5e6b159",
   "metadata": {},
   "source": [
    "Carilah turunandari fungsi:\n",
    "\n",
    "a. 𝑦 = 𝑥^2+2𝑥+1\n",
    "\n",
    "b. 𝑦 = 4𝑥^3−3𝑥^2+2𝑥−1\n"
   ]
  },
  {
   "cell_type": "code",
   "execution_count": 1,
   "id": "4cfabd00",
   "metadata": {},
   "outputs": [],
   "source": [
    "import sympy as sy"
   ]
  },
  {
   "cell_type": "code",
   "execution_count": 2,
   "id": "80a1c585",
   "metadata": {},
   "outputs": [],
   "source": [
    "x = sy.Symbol('x',real=True)"
   ]
  },
  {
   "cell_type": "markdown",
   "id": "3f3b57bd",
   "metadata": {},
   "source": [
    "## *a*"
   ]
  },
  {
   "cell_type": "code",
   "execution_count": 4,
   "id": "e489d498",
   "metadata": {},
   "outputs": [],
   "source": [
    "y1 = x**2 + 2*x +1"
   ]
  },
  {
   "cell_type": "code",
   "execution_count": 5,
   "id": "53a7ad49",
   "metadata": {},
   "outputs": [
    {
     "data": {
      "text/latex": [
       "$\\displaystyle 2 x + 2$"
      ],
      "text/plain": [
       "2*x + 2"
      ]
     },
     "execution_count": 5,
     "metadata": {},
     "output_type": "execute_result"
    }
   ],
   "source": [
    "y1.diff(x)"
   ]
  },
  {
   "cell_type": "code",
   "execution_count": 6,
   "id": "a7791f5c",
   "metadata": {},
   "outputs": [
    {
     "data": {
      "text/latex": [
       "$\\displaystyle 2$"
      ],
      "text/plain": [
       "2"
      ]
     },
     "execution_count": 6,
     "metadata": {},
     "output_type": "execute_result"
    }
   ],
   "source": [
    "y1.diff().diff(x)"
   ]
  },
  {
   "cell_type": "code",
   "execution_count": 8,
   "id": "784c8d15",
   "metadata": {},
   "outputs": [
    {
     "data": {
      "text/latex": [
       "$\\displaystyle 0$"
      ],
      "text/plain": [
       "0"
      ]
     },
     "execution_count": 8,
     "metadata": {},
     "output_type": "execute_result"
    }
   ],
   "source": [
    "y1.diff().diff().diff(x)"
   ]
  },
  {
   "cell_type": "markdown",
   "id": "d8f0f1c8",
   "metadata": {},
   "source": [
    "## *b*"
   ]
  },
  {
   "cell_type": "code",
   "execution_count": 11,
   "id": "dfcc192f",
   "metadata": {},
   "outputs": [],
   "source": [
    "y2 = 4*𝑥**3-3*𝑥**2+2*𝑥-1"
   ]
  },
  {
   "cell_type": "code",
   "execution_count": 12,
   "id": "17e62d1c",
   "metadata": {},
   "outputs": [
    {
     "data": {
      "text/latex": [
       "$\\displaystyle 12 x^{2} - 6 x + 2$"
      ],
      "text/plain": [
       "12*x**2 - 6*x + 2"
      ]
     },
     "execution_count": 12,
     "metadata": {},
     "output_type": "execute_result"
    }
   ],
   "source": [
    "y2.diff(x)"
   ]
  },
  {
   "cell_type": "code",
   "execution_count": 13,
   "id": "6a13c545",
   "metadata": {},
   "outputs": [
    {
     "data": {
      "text/latex": [
       "$\\displaystyle 24 x - 6$"
      ],
      "text/plain": [
       "24*x - 6"
      ]
     },
     "execution_count": 13,
     "metadata": {},
     "output_type": "execute_result"
    }
   ],
   "source": [
    "y2.diff().diff(x)"
   ]
  },
  {
   "cell_type": "code",
   "execution_count": 15,
   "id": "3b1ca386",
   "metadata": {},
   "outputs": [
    {
     "data": {
      "text/latex": [
       "$\\displaystyle 24$"
      ],
      "text/plain": [
       "24"
      ]
     },
     "execution_count": 15,
     "metadata": {},
     "output_type": "execute_result"
    }
   ],
   "source": [
    "y2.diff().diff().diff(x)"
   ]
  },
  {
   "cell_type": "code",
   "execution_count": 16,
   "id": "efbb99e4",
   "metadata": {},
   "outputs": [
    {
     "data": {
      "text/latex": [
       "$\\displaystyle 0$"
      ],
      "text/plain": [
       "0"
      ]
     },
     "execution_count": 16,
     "metadata": {},
     "output_type": "execute_result"
    }
   ],
   "source": [
    "y2.diff().diff().diff().diff(x)"
   ]
  }
 ],
 "metadata": {
  "kernelspec": {
   "display_name": "Python 3",
   "language": "python",
   "name": "python3"
  },
  "language_info": {
   "codemirror_mode": {
    "name": "ipython",
    "version": 3
   },
   "file_extension": ".py",
   "mimetype": "text/x-python",
   "name": "python",
   "nbconvert_exporter": "python",
   "pygments_lexer": "ipython3",
   "version": "3.8.8"
  }
 },
 "nbformat": 4,
 "nbformat_minor": 5
}
