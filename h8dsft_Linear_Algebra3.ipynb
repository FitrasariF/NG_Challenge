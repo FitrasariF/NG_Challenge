{
 "cells": [
  {
   "cell_type": "markdown",
   "id": "053abce2",
   "metadata": {},
   "source": [
    "# NG5 Fitrasari"
   ]
  },
  {
   "cell_type": "markdown",
   "id": "3d94e710",
   "metadata": {},
   "source": [
    "## Nomor 1"
   ]
  },
  {
   "cell_type": "markdown",
   "id": "6eaaff07",
   "metadata": {},
   "source": [
    "**Apakah ([[1],[3]]) adalah eigenvector dari ([[1,-1],[6,4]]) ? Jika Iya, berapakah eigenvalue-nya?**\n"
   ]
  },
  {
   "cell_type": "code",
   "execution_count": 1,
   "id": "d6544d11",
   "metadata": {},
   "outputs": [],
   "source": [
    "from numpy import array \n",
    "from numpy.linalg import eig "
   ]
  },
  {
   "cell_type": "code",
   "execution_count": 7,
   "id": "5a73288a",
   "metadata": {},
   "outputs": [
    {
     "data": {
      "text/plain": [
       "array([[ 1, -1],\n",
       "       [ 6,  4]])"
      ]
     },
     "execution_count": 7,
     "metadata": {},
     "output_type": "execute_result"
    }
   ],
   "source": [
    "A = array([[1,-1],[6,4]])\n",
    "A"
   ]
  },
  {
   "cell_type": "code",
   "execution_count": 4,
   "id": "94ce11b4",
   "metadata": {},
   "outputs": [],
   "source": [
    "values, vectors = eig(A)"
   ]
  },
  {
   "cell_type": "code",
   "execution_count": 6,
   "id": "ee6e149f",
   "metadata": {},
   "outputs": [
    {
     "name": "stdout",
     "output_type": "stream",
     "text": [
      "[[-0.23145502+0.29880715j -0.23145502-0.29880715j]\n",
      " [ 0.9258201 +0.j          0.9258201 -0.j        ]]\n"
     ]
    }
   ],
   "source": [
    "print(vectors)"
   ]
  },
  {
   "cell_type": "code",
   "execution_count": 8,
   "id": "3d84c1ab",
   "metadata": {},
   "outputs": [
    {
     "name": "stdout",
     "output_type": "stream",
     "text": [
      "[2.5+1.93649167j 2.5-1.93649167j]\n"
     ]
    }
   ],
   "source": [
    "print(values)"
   ]
  },
  {
   "cell_type": "markdown",
   "id": "95b11ec7",
   "metadata": {},
   "source": [
    "## ([[1],[3]]) bukan eigenvector dari ([[1,-1],[6,4]])"
   ]
  },
  {
   "cell_type": "code",
   "execution_count": null,
   "id": "aac5f6c3",
   "metadata": {},
   "outputs": [],
   "source": []
  }
 ],
 "metadata": {
  "kernelspec": {
   "display_name": "Python 3",
   "language": "python",
   "name": "python3"
  },
  "language_info": {
   "codemirror_mode": {
    "name": "ipython",
    "version": 3
   },
   "file_extension": ".py",
   "mimetype": "text/x-python",
   "name": "python",
   "nbconvert_exporter": "python",
   "pygments_lexer": "ipython3",
   "version": "3.8.8"
  }
 },
 "nbformat": 4,
 "nbformat_minor": 5
}
