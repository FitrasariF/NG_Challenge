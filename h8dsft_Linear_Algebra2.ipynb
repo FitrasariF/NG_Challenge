{
 "cells": [
  {
   "cell_type": "markdown",
   "id": "55c0ee0d",
   "metadata": {},
   "source": [
    "# NG4 Fitrasari"
   ]
  },
  {
   "cell_type": "code",
   "execution_count": 2,
   "id": "ec547983",
   "metadata": {},
   "outputs": [],
   "source": [
    "import numpy as np"
   ]
  },
  {
   "cell_type": "markdown",
   "id": "ea513fb7",
   "metadata": {},
   "source": [
    "# Nomor 1\n"
   ]
  },
  {
   "cell_type": "markdown",
   "id": "6f07c47c",
   "metadata": {},
   "source": [
    "**Buat Tensor dengan python dengan data [[[23,50],[7,12]],[[57,67],[99,43]],[[75,21],[57,12]],[[87,26],[18,84]]]**"
   ]
  },
  {
   "cell_type": "code",
   "execution_count": 3,
   "id": "d3617816",
   "metadata": {},
   "outputs": [],
   "source": [
    "T = np.array([[[23,50],[7,12]],[[57,67],[99,43]],[[75,21],[57,12]],[[87,26],[18,84]]])"
   ]
  },
  {
   "cell_type": "code",
   "execution_count": 4,
   "id": "6cfc4660",
   "metadata": {},
   "outputs": [
    {
     "data": {
      "text/plain": [
       "(4, 2, 2)"
      ]
     },
     "execution_count": 4,
     "metadata": {},
     "output_type": "execute_result"
    }
   ],
   "source": [
    "T.shape"
   ]
  },
  {
   "cell_type": "code",
   "execution_count": 5,
   "id": "73092d8c",
   "metadata": {},
   "outputs": [
    {
     "data": {
      "text/plain": [
       "array([[[23, 50],\n",
       "        [ 7, 12]],\n",
       "\n",
       "       [[57, 67],\n",
       "        [99, 43]],\n",
       "\n",
       "       [[75, 21],\n",
       "        [57, 12]],\n",
       "\n",
       "       [[87, 26],\n",
       "        [18, 84]]])"
      ]
     },
     "execution_count": 5,
     "metadata": {},
     "output_type": "execute_result"
    }
   ],
   "source": [
    "T"
   ]
  },
  {
   "cell_type": "markdown",
   "id": "703a100f",
   "metadata": {},
   "source": [
    "# Nomor 2"
   ]
  },
  {
   "cell_type": "markdown",
   "id": "ae9367a7",
   "metadata": {},
   "source": [
    "**Cari hasil perkalian dari A dan B.** \n",
    "\n",
    "**A = np.array([[23,50,19],[7,12,109],[57,57,98]])**\n",
    "\n",
    "**B = np.array([[17],[12],[19]])**"
   ]
  },
  {
   "cell_type": "code",
   "execution_count": 6,
   "id": "efd20385",
   "metadata": {},
   "outputs": [
    {
     "name": "stdout",
     "output_type": "stream",
     "text": [
      "[[ 23  50  19]\n",
      " [  7  12 109]\n",
      " [ 57  57  98]]\n",
      "(3, 3)\n",
      "[[17]\n",
      " [12]\n",
      " [19]]\n",
      "(3, 1)\n"
     ]
    }
   ],
   "source": [
    "A = np.array([[23,50,19],[7,12,109],[57,57,98]])\n",
    "B = np.array([[17],[12],[19]])\n",
    "\n",
    "print(A)\n",
    "print(A.shape)\n",
    "print(B)\n",
    "print(B.shape)"
   ]
  },
  {
   "cell_type": "code",
   "execution_count": 14,
   "id": "ebd8a688",
   "metadata": {
    "scrolled": true
   },
   "outputs": [
    {
     "data": {
      "text/plain": [
       "array([[ 391,  850,  323],\n",
       "       [  84,  144, 1308],\n",
       "       [1083, 1083, 1862]])"
      ]
     },
     "execution_count": 14,
     "metadata": {},
     "output_type": "execute_result"
    }
   ],
   "source": [
    "A * B"
   ]
  },
  {
   "cell_type": "markdown",
   "id": "4e709b96",
   "metadata": {},
   "source": [
    "# Nomor 3"
   ]
  },
  {
   "cell_type": "markdown",
   "id": "17eff678",
   "metadata": {},
   "source": [
    "**Cari Transpose, Determinan, dan Invers dari A. A = np.array([[23,50,19],[7,12,109],[57,57,98]])**"
   ]
  },
  {
   "cell_type": "markdown",
   "id": "393b64f9",
   "metadata": {},
   "source": [
    "*Transpose A*"
   ]
  },
  {
   "cell_type": "code",
   "execution_count": 9,
   "id": "3b412f4c",
   "metadata": {},
   "outputs": [
    {
     "data": {
      "text/plain": [
       "array([[ 23,   7,  57],\n",
       "       [ 50,  12,  57],\n",
       "       [ 19, 109,  98]])"
      ]
     },
     "execution_count": 9,
     "metadata": {},
     "output_type": "execute_result"
    }
   ],
   "source": [
    "TransA = A.T\n",
    "TransA"
   ]
  },
  {
   "cell_type": "markdown",
   "id": "853047ca",
   "metadata": {},
   "source": [
    "*Determinan A*"
   ]
  },
  {
   "cell_type": "code",
   "execution_count": 10,
   "id": "faf70b0a",
   "metadata": {},
   "outputs": [],
   "source": [
    "from numpy.linalg import det"
   ]
  },
  {
   "cell_type": "code",
   "execution_count": 11,
   "id": "76c14c2c",
   "metadata": {},
   "outputs": [
    {
     "data": {
      "text/plain": [
       "155084.0000000002"
      ]
     },
     "execution_count": 11,
     "metadata": {},
     "output_type": "execute_result"
    }
   ],
   "source": [
    "deterA = det(A)\n",
    "deterA"
   ]
  },
  {
   "cell_type": "markdown",
   "id": "68347aea",
   "metadata": {},
   "source": [
    "*Inverse A*"
   ]
  },
  {
   "cell_type": "code",
   "execution_count": 12,
   "id": "afb6d278",
   "metadata": {},
   "outputs": [],
   "source": [
    "from numpy.linalg import inv"
   ]
  },
  {
   "cell_type": "code",
   "execution_count": 13,
   "id": "be8a4f02",
   "metadata": {},
   "outputs": [
    {
     "data": {
      "text/plain": [
       "array([[-0.03247917, -0.02461247,  0.03367207],\n",
       "       [ 0.03563875,  0.00755075, -0.01530783],\n",
       "       [-0.00183771,  0.00992365, -0.00047716]])"
      ]
     },
     "execution_count": 13,
     "metadata": {},
     "output_type": "execute_result"
    }
   ],
   "source": [
    "inverA = inv(A)\n",
    "inverA"
   ]
  },
  {
   "cell_type": "code",
   "execution_count": null,
   "id": "4b754fff",
   "metadata": {},
   "outputs": [],
   "source": []
  },
  {
   "cell_type": "code",
   "execution_count": null,
   "id": "19369cf5",
   "metadata": {},
   "outputs": [],
   "source": []
  }
 ],
 "metadata": {
  "kernelspec": {
   "display_name": "Python 3",
   "language": "python",
   "name": "python3"
  },
  "language_info": {
   "codemirror_mode": {
    "name": "ipython",
    "version": 3
   },
   "file_extension": ".py",
   "mimetype": "text/x-python",
   "name": "python",
   "nbconvert_exporter": "python",
   "pygments_lexer": "ipython3",
   "version": "3.8.8"
  }
 },
 "nbformat": 4,
 "nbformat_minor": 5
}
