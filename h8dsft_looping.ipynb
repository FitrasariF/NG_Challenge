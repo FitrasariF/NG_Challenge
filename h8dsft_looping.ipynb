{
 "cells": [
  {
   "cell_type": "markdown",
   "id": "8a3efb18",
   "metadata": {},
   "source": [
    "tidak ada angka di list yang lebih besar dari 918 "
   ]
  },
  {
   "cell_type": "code",
   "execution_count": 2,
   "id": "9ae885b7",
   "metadata": {
    "scrolled": true
   },
   "outputs": [
    {
     "name": "stdout",
     "output_type": "stream",
     "text": [
      "Bilangan Genap dari List : [402, 984, 360, 408, 980, 544, 390, 984, 592, 236, 942, 386, 462, 418, 344, 236, 566, 978, 328, 162, 758, 918, 412, 566, 826, 248, 866, 950, 626]\n",
      "Bilangan Genap < 918 dari List : [402, 360, 408, 544, 390, 592, 236, 386, 462, 418, 344, 236, 566, 328, 162, 758, 918, 412, 566, 826, 248, 866, 626]\n",
      "Done\n"
     ]
    }
   ],
   "source": [
    "numbers = [951, 402, 984, 651, 360, 69, 408, 319, 601, 485, 980, 507, 725, 547, 544, 615, 83, 165, 141, 501, 263, 617, 865, 575, 219, 390, 984, 592, 236, 105, 942, 941, 386, 462, 47, 418, 907, 344, 236, 375, 823, 566, 597, 978, 328, 615, 953, 345, 399, 162, 758, 219, 918, 237, 412, 566, 826, 248, 866, 950, 626, 949]\n",
    "Genap = []\n",
    "for j in numbers:\n",
    "    if(j%2==0):\n",
    "        Genap.append(j)\n",
    "    else:\n",
    "        pass\n",
    "print('Bilangan Genap dari List :',Genap)\n",
    "for k in Genap:\n",
    "    if k>918:\n",
    "        Genap.remove(k)\n",
    "print('Bilangan Genap < 918 dari List :',Genap)\n",
    "print('Done')\n"
   ]
  },
  {
   "cell_type": "markdown",
   "id": "e73fc513",
   "metadata": {},
   "source": [
    "tidak ada angka setelah angka 918 di urutan list"
   ]
  },
  {
   "cell_type": "code",
   "execution_count": 4,
   "id": "eddacd51",
   "metadata": {},
   "outputs": [
    {
     "name": "stdout",
     "output_type": "stream",
     "text": [
      "[402, 984, 360, 408, 980, 544, 390, 984, 592, 236, 942, 386, 462, 418, 344, 236, 566, 978, 328, 162, 758, 918]\n",
      "Done\n"
     ]
    }
   ],
   "source": [
    "numbers = [951, 402, 984, 651, 360, 69, 408, 319, 601, 485, 980, 507, 725, 547, 544, 615, 83, 165, 141, 501, 263, 617, 865, 575, 219, 390, 984, 592, 236, 105, 942, 941, 386, 462, 47, 418, 907, 344, 236, 375, 823, 566, 597, 978, 328, 615, 953, 345, 399, 162, 758, 219, 918, 237, 412, 566, 826, 248, 866, 950, 626, 949]\n",
    "Genap = []\n",
    "for j in numbers:\n",
    "    if(j%2==0):\n",
    "        Genap.append(j)\n",
    "    if j == 918:\n",
    "        break\n",
    "print(Genap)\n",
    "print('Done')"
   ]
  },
  {
   "cell_type": "markdown",
   "id": "593a8a33",
   "metadata": {},
   "source": [
    "# NG Challenge 1 Fitrasari"
   ]
  },
  {
   "cell_type": "code",
   "execution_count": null,
   "id": "d2ca17bc",
   "metadata": {},
   "outputs": [],
   "source": []
  }
 ],
 "metadata": {
  "kernelspec": {
   "display_name": "Python 3",
   "language": "python",
   "name": "python3"
  },
  "language_info": {
   "codemirror_mode": {
    "name": "ipython",
    "version": 3
   },
   "file_extension": ".py",
   "mimetype": "text/x-python",
   "name": "python",
   "nbconvert_exporter": "python",
   "pygments_lexer": "ipython3",
   "version": "3.8.8"
  }
 },
 "nbformat": 4,
 "nbformat_minor": 5
}
