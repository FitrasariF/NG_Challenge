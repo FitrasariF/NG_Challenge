{
 "cells": [
  {
   "cell_type": "markdown",
   "id": "995cbdfc",
   "metadata": {},
   "source": [
    "# NG2 Fitrasari"
   ]
  },
  {
   "cell_type": "markdown",
   "id": "e7f8714a",
   "metadata": {},
   "source": [
    "-Buatlah sebuah function yang dapat mengkonversi suhu dari kelvin ke celcius, dan celcius ke kelvin.\n",
    "\n",
    "-Buatlah sebuah function yang dapat mengkonversi suhu ke fahrenheit. Tambahkan parameter untuk memastikan bahwa argumen yang dimasukan adalah celcius atau kelvin. Panggil function yang pertama jika diperlukan.\n",
    "\n",
    "-Buatlah sebuah function yang dapat mengkonversi suhu dari fahrenheit. Berikan argumen untuk memastikan bahwa outputnya dalah celcius atau kelvin.\n",
    "\n",
    "-Berikan dokumentasi pada setiap baris kode yang kalian tulis"
   ]
  },
  {
   "cell_type": "code",
   "execution_count": 4,
   "id": "b934afe1",
   "metadata": {},
   "outputs": [],
   "source": [
    "#KELVIN\n",
    "\n",
    "def C_to_K(C):\n",
    "    K = 273.15 + C\n",
    "def F_to_K(F):\n",
    "    K = (((F -32)*5/9) + 273.15)\n",
    "\n",
    "#FARHENHEIT\n",
    "\n",
    "def C_to_F(C):\n",
    "    F = ((C*9/5)+32)\n",
    "def K_to_F(K):\n",
    "    F = (((K - 273.15)*9/5) + 32)\n",
    "\n",
    "#CELCIUS\n",
    "\n",
    "def K_to_C(K):\n",
    "    K - 273.15\n",
    "def F_to_C(F):\n",
    "    C = ((F-32)*5/9)"
   ]
  },
  {
   "cell_type": "markdown",
   "id": "34fb9bf0",
   "metadata": {},
   "source": [
    "# Poin 1"
   ]
  },
  {
   "cell_type": "code",
   "execution_count": 31,
   "id": "001dd391",
   "metadata": {},
   "outputs": [
    {
     "name": "stdout",
     "output_type": "stream",
     "text": [
      "100 Celsius sama dengan 373.15 Kelvin\n",
      "50 Kelvin sama dengan -223.15 Celsius\n",
      "33.78 Celsius sama dengan 306.93 Kelvin\n",
      "588.228 Kelvin sama dengan 315.08 Celsius\n",
      "Silahkan input angka\n",
      "Silahkan input angka\n"
     ]
    }
   ],
   "source": [
    "def C_to_K(C):\n",
    "    if isinstance(C,(int,float)):\n",
    "        K = 273.15 + C\n",
    "        K = round(K,2)\n",
    "        print(C, 'Celsius sama dengan',K, 'Kelvin')\n",
    "    else:\n",
    "        print('Silahkan input angka')\n",
    "def K_to_C(K):\n",
    "    if isinstance(K,(int,float)):\n",
    "        C = K - 273.15\n",
    "        C = round(C,2)\n",
    "        print(K, 'Kelvin sama dengan',C, 'Celsius')\n",
    "    else:\n",
    "        print('Silahkan input angka')\n",
    "\n",
    "(C_to_K(100))\n",
    "(K_to_C(50))\n",
    "(C_to_K(33.78))\n",
    "(K_to_C(588.228))\n",
    "(C_to_K('abc'))\n",
    "(K_to_C('qwe'))\n"
   ]
  },
  {
   "cell_type": "markdown",
   "id": "2a47eb68",
   "metadata": {},
   "source": [
    "# Poin 2"
   ]
  },
  {
   "cell_type": "code",
   "execution_count": 34,
   "id": "7df0d8f1",
   "metadata": {},
   "outputs": [
    {
     "name": "stdout",
     "output_type": "stream",
     "text": [
      "50 Celsius sama dengan 122.0 Farhenheit\n",
      "75 Kelvin sama dengan -324.67 Farhenheit\n",
      "105.402 Celsius sama dengan 221.72 Farhenheit\n",
      "205.4 Kelvin sama dengan -89.95 Farhenheit\n",
      "Silahkan input angka\n",
      "Silahkan input angka\n"
     ]
    }
   ],
   "source": [
    "def C_to_F(C):\n",
    "    if isinstance(C,(int,float)):\n",
    "        F = ((C*9/5)+32)\n",
    "        F = round(F,2)\n",
    "        print(C, 'Celsius sama dengan',F, 'Farhenheit')\n",
    "    else:\n",
    "        print('Silahkan input angka')\n",
    "def K_to_F(K):\n",
    "    if isinstance(K,(int,float)):\n",
    "        F = (((K - 273.15)*9/5) + 32)\n",
    "        F = round(F,2)\n",
    "        print(K, 'Kelvin sama dengan',F, 'Farhenheit')\n",
    "    else:\n",
    "        print('Silahkan input angka')\n",
    "\n",
    "C_to_F(-33)\n",
    "K_to_F(75)\n",
    "C_to_F(105.402)\n",
    "K_to_F(205.4)\n",
    "C_to_F('ndu')\n",
    "K_to_F('iey')\n",
    "    "
   ]
  },
  {
   "cell_type": "markdown",
   "id": "ac7ebf2e",
   "metadata": {},
   "source": [
    "# Poin 3"
   ]
  },
  {
   "cell_type": "code",
   "execution_count": 37,
   "id": "45233eb2",
   "metadata": {},
   "outputs": [
    {
     "name": "stdout",
     "output_type": "stream",
     "text": [
      "100 Farhenheit sama dengan 37.78 Celsius\n",
      "86 Farhenheit sama dengan 303.15 Kelvin\n",
      "648.332 Farhenheit sama dengan 342.41 Celsius\n",
      "-20.6 Farhenheit sama dengan 243.93 Kelvin\n",
      "Silahkan input angka\n",
      "Silahkan input angka\n"
     ]
    }
   ],
   "source": [
    "def F_to_K(F):\n",
    "    if isinstance(F,(int,float)):\n",
    "        K = (((F -32)*5/9) + 273.15)\n",
    "        K = round(K,2)\n",
    "        print(F, 'Farhenheit sama dengan',K, 'Kelvin')\n",
    "    else:\n",
    "        print('Silahkan input angka')\n",
    "def F_to_C(F):\n",
    "    if isinstance(F,(int,float)):\n",
    "        C = ((F-32)*5/9)\n",
    "        C = round(C,2)\n",
    "        print(F, 'Farhenheit sama dengan',C, 'Celsius')\n",
    "    else:\n",
    "        print('Silahkan input angka')\n",
    "        \n",
    "F_to_C(100)\n",
    "F_to_K(86)\n",
    "F_to_C(648.332)\n",
    "F_to_K(-20.6)\n",
    "F_to_C('wew')\n",
    "F_to_K('uwu')"
   ]
  },
  {
   "cell_type": "code",
   "execution_count": null,
   "id": "476f257b",
   "metadata": {},
   "outputs": [],
   "source": []
  }
 ],
 "metadata": {
  "kernelspec": {
   "display_name": "Python 3",
   "language": "python",
   "name": "python3"
  },
  "language_info": {
   "codemirror_mode": {
    "name": "ipython",
    "version": 3
   },
   "file_extension": ".py",
   "mimetype": "text/x-python",
   "name": "python",
   "nbconvert_exporter": "python",
   "pygments_lexer": "ipython3",
   "version": "3.8.8"
  }
 },
 "nbformat": 4,
 "nbformat_minor": 5
}
