{
 "cells": [
  {
   "cell_type": "markdown",
   "id": "2756ab4b",
   "metadata": {},
   "source": [
    "# NG3 Fitrasari"
   ]
  },
  {
   "cell_type": "code",
   "execution_count": 13,
   "id": "95244dcf",
   "metadata": {},
   "outputs": [],
   "source": [
    "import numpy as np"
   ]
  },
  {
   "cell_type": "markdown",
   "id": "e07822d1",
   "metadata": {},
   "source": [
    "# Nomor 1"
   ]
  },
  {
   "cell_type": "markdown",
   "id": "3dcc3d0b",
   "metadata": {},
   "source": [
    "**Buatlah vektor di bawah ini dengan Python [17],[22],[19]**"
   ]
  },
  {
   "cell_type": "code",
   "execution_count": 14,
   "id": "4886c163",
   "metadata": {},
   "outputs": [
    {
     "data": {
      "text/plain": [
       "array([[17],\n",
       "       [22],\n",
       "       [19]])"
      ]
     },
     "execution_count": 14,
     "metadata": {},
     "output_type": "execute_result"
    }
   ],
   "source": [
    "X = np.array([[17],[22],[19]])\n",
    "X"
   ]
  },
  {
   "cell_type": "markdown",
   "id": "d92a6e28",
   "metadata": {},
   "source": [
    "# Nomor 2"
   ]
  },
  {
   "cell_type": "markdown",
   "id": "3c2b528e",
   "metadata": {},
   "source": [
    "**Diberikan 3 buah vector 3 dimensi :**"
   ]
  },
  {
   "cell_type": "code",
   "execution_count": 31,
   "id": "a9cda5a9",
   "metadata": {},
   "outputs": [],
   "source": [
    "A = np.array([17,22,19])\n",
    "B = np.array([10,20,11])\n",
    "C = np.array([5,12,9])"
   ]
  },
  {
   "cell_type": "markdown",
   "id": "0f98f6be",
   "metadata": {},
   "source": [
    "*A+B*"
   ]
  },
  {
   "cell_type": "code",
   "execution_count": 32,
   "id": "b6e061e1",
   "metadata": {},
   "outputs": [
    {
     "data": {
      "text/plain": [
       "array([27, 42, 30])"
      ]
     },
     "execution_count": 32,
     "metadata": {},
     "output_type": "execute_result"
    }
   ],
   "source": [
    "plus = A + B\n",
    "plus"
   ]
  },
  {
   "cell_type": "markdown",
   "id": "f0bfe9ba",
   "metadata": {},
   "source": [
    "*B - C*"
   ]
  },
  {
   "cell_type": "code",
   "execution_count": 33,
   "id": "486bd728",
   "metadata": {},
   "outputs": [
    {
     "data": {
      "text/plain": [
       "array([5, 8, 2])"
      ]
     },
     "execution_count": 33,
     "metadata": {},
     "output_type": "execute_result"
    }
   ],
   "source": [
    "minus = B - C\n",
    "minus"
   ]
  },
  {
   "cell_type": "markdown",
   "id": "1aa2de45",
   "metadata": {},
   "source": [
    "*A dot C*"
   ]
  },
  {
   "cell_type": "code",
   "execution_count": 34,
   "id": "4394ede1",
   "metadata": {
    "scrolled": true
   },
   "outputs": [
    {
     "data": {
      "text/plain": [
       "520"
      ]
     },
     "execution_count": 34,
     "metadata": {},
     "output_type": "execute_result"
    }
   ],
   "source": [
    "dot = A.dot(C)\n",
    "dot"
   ]
  },
  {
   "cell_type": "markdown",
   "id": "a3abac83",
   "metadata": {},
   "source": [
    "*Norm A*"
   ]
  },
  {
   "cell_type": "code",
   "execution_count": 35,
   "id": "3ec277b3",
   "metadata": {},
   "outputs": [
    {
     "data": {
      "text/plain": [
       "33.67491648096547"
      ]
     },
     "execution_count": 35,
     "metadata": {},
     "output_type": "execute_result"
    }
   ],
   "source": [
    "norm = np.linalg.norm(A)\n",
    "norm"
   ]
  },
  {
   "cell_type": "markdown",
   "id": "9edc7e83",
   "metadata": {},
   "source": [
    "*Sudut antara vektor A dan B*"
   ]
  },
  {
   "cell_type": "code",
   "execution_count": 36,
   "id": "7cee2b5d",
   "metadata": {},
   "outputs": [
    {
     "name": "stdout",
     "output_type": "stream",
     "text": [
      "Angle = 0.21971776576153912 radians\n",
      "      = 12.588900662180214 degrees\n"
     ]
    }
   ],
   "source": [
    "def vector_angle(A, B):\n",
    "    cos_theta = A.dot(B) / np.linalg.norm(A) / np.linalg.norm(B)\n",
    "    return np.arccos(np.clip(cos_theta, -1, 1))\n",
    "\n",
    "theta = vector_angle(A, B)\n",
    "print(\"Angle =\", theta, \"radians\")\n",
    "print(\"      =\", theta * 180 / np.pi, \"degrees\")"
   ]
  },
  {
   "cell_type": "markdown",
   "id": "b1d3f6a0",
   "metadata": {},
   "source": [
    "# Nomor 3"
   ]
  },
  {
   "cell_type": "markdown",
   "id": "8917b4e3",
   "metadata": {},
   "source": [
    "**Buatlah plot dari vector berikut ini ke dalam bidang 2D**"
   ]
  },
  {
   "cell_type": "code",
   "execution_count": 23,
   "id": "e829a496",
   "metadata": {},
   "outputs": [],
   "source": [
    "%matplotlib inline\n",
    "import matplotlib.pyplot as plt"
   ]
  },
  {
   "cell_type": "code",
   "execution_count": 24,
   "id": "792497c8",
   "metadata": {},
   "outputs": [],
   "source": [
    "u = np.array([2, 5])\n",
    "v = np.array([3, 1])"
   ]
  },
  {
   "cell_type": "code",
   "execution_count": 25,
   "id": "bade108e",
   "metadata": {},
   "outputs": [
    {
     "data": {
      "image/png": "[encoded data removed]",
      "text/plain": [
       "<Figure size 432x288 with 1 Axes>"
      ]
     },
     "metadata": {
      "needs_background": "light"
     },
     "output_type": "display_data"
    }
   ],
   "source": [
    "x_coords, y_coords = zip(u, v)\n",
    "plt.scatter(x_coords, y_coords, color=[\"r\",\"b\"])\n",
    "plt.axis([0, 8, 0, 8])\n",
    "plt.grid()\n",
    "plt.show()"
   ]
  },
  {
   "cell_type": "markdown",
   "id": "8345bf87",
   "metadata": {},
   "source": [
    "***Koordinat vektor u ditunjukkan oleh dot berwarna merah, sedangkan koordinat vektor v ditunjukkan oleh dot berwarna biru***"
   ]
  }
 ],
 "metadata": {
  "kernelspec": {
   "display_name": "Python 3",
   "language": "python",
   "name": "python3"
  },
  "language_info": {
   "codemirror_mode": {
    "name": "ipython",
    "version": 3
   },
   "file_extension": ".py",
   "mimetype": "text/x-python",
   "name": "python",
   "nbconvert_exporter": "python",
   "pygments_lexer": "ipython3",
   "version": "3.8.8"
  }
 },
 "nbformat": 4,
 "nbformat_minor": 5
}
