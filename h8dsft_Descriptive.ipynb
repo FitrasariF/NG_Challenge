{
 "cells": [
  {
   "cell_type": "markdown",
   "id": "9a8c7ba1",
   "metadata": {},
   "source": [
    "# NGC 11 Fitrasari"
   ]
  },
  {
   "cell_type": "markdown",
   "id": "6ed5fa1a",
   "metadata": {},
   "source": [
    "## Import Library"
   ]
  },
  {
   "cell_type": "code",
   "execution_count": 80,
   "id": "45521084",
   "metadata": {},
   "outputs": [],
   "source": [
    "import pandas as pd\n",
    "import matplotlib.pyplot as plt"
   ]
  },
  {
   "cell_type": "markdown",
   "id": "d75c0552",
   "metadata": {},
   "source": [
    "## Data Loading"
   ]
  },
  {
   "cell_type": "code",
   "execution_count": 81,
   "id": "cd256a08",
   "metadata": {},
   "outputs": [
    {
     "data": {
      "text/html": [
       "<div>\n",
       "<style scoped>\n",
       "    .dataframe tbody tr th:only-of-type {\n",
       "        vertical-align: middle;\n",
       "    }\n",
       "\n",
       "    .dataframe tbody tr th {\n",
       "        vertical-align: top;\n",
       "    }\n",
       "\n",
       "    .dataframe thead th {\n",
       "        text-align: right;\n",
       "    }\n",
       "</style>\n",
       "<table border=\"1\" class=\"dataframe\">\n",
       "  <thead>\n",
       "    <tr style=\"text-align: right;\">\n",
       "      <th></th>\n",
       "      <th>Date</th>\n",
       "      <th>Location ISO Code</th>\n",
       "      <th>Location</th>\n",
       "      <th>New Cases</th>\n",
       "      <th>New Deaths</th>\n",
       "      <th>New Recovered</th>\n",
       "      <th>New Active Cases</th>\n",
       "      <th>Total Cases</th>\n",
       "      <th>Total Deaths</th>\n",
       "      <th>Total Recovered</th>\n",
       "      <th>...</th>\n",
       "      <th>Latitude</th>\n",
       "      <th>New Cases per Million</th>\n",
       "      <th>Total Cases per Million</th>\n",
       "      <th>New Deaths per Million</th>\n",
       "      <th>Total Deaths per Million</th>\n",
       "      <th>Total Deaths per 100rb</th>\n",
       "      <th>Case Fatality Rate</th>\n",
       "      <th>Case Recovered Rate</th>\n",
       "      <th>Growth Factor of New Cases</th>\n",
       "      <th>Growth Factor of New Deaths</th>\n",
       "    </tr>\n",
       "  </thead>\n",
       "  <tbody>\n",
       "    <tr>\n",
       "      <th>0</th>\n",
       "      <td>3/1/2020</td>\n",
       "      <td>ID-JK</td>\n",
       "      <td>DKI Jakarta</td>\n",
       "      <td>2</td>\n",
       "      <td>0</td>\n",
       "      <td>0</td>\n",
       "      <td>2</td>\n",
       "      <td>39</td>\n",
       "      <td>20</td>\n",
       "      <td>39</td>\n",
       "      <td>...</td>\n",
       "      <td>-6.204699</td>\n",
       "      <td>0.18</td>\n",
       "      <td>3.60</td>\n",
       "      <td>0.0</td>\n",
       "      <td>1.84</td>\n",
       "      <td>0.18</td>\n",
       "      <td>51.28%</td>\n",
       "      <td>100.00%</td>\n",
       "      <td>NaN</td>\n",
       "      <td>NaN</td>\n",
       "    </tr>\n",
       "    <tr>\n",
       "      <th>1</th>\n",
       "      <td>3/2/2020</td>\n",
       "      <td>ID-JK</td>\n",
       "      <td>DKI Jakarta</td>\n",
       "      <td>2</td>\n",
       "      <td>0</td>\n",
       "      <td>0</td>\n",
       "      <td>2</td>\n",
       "      <td>41</td>\n",
       "      <td>20</td>\n",
       "      <td>39</td>\n",
       "      <td>...</td>\n",
       "      <td>-6.204699</td>\n",
       "      <td>0.18</td>\n",
       "      <td>3.78</td>\n",
       "      <td>0.0</td>\n",
       "      <td>1.84</td>\n",
       "      <td>0.18</td>\n",
       "      <td>48.78%</td>\n",
       "      <td>95.12%</td>\n",
       "      <td>1.0</td>\n",
       "      <td>1.0</td>\n",
       "    </tr>\n",
       "    <tr>\n",
       "      <th>2</th>\n",
       "      <td>3/2/2020</td>\n",
       "      <td>IDN</td>\n",
       "      <td>Indonesia</td>\n",
       "      <td>2</td>\n",
       "      <td>0</td>\n",
       "      <td>0</td>\n",
       "      <td>2</td>\n",
       "      <td>2</td>\n",
       "      <td>0</td>\n",
       "      <td>0</td>\n",
       "      <td>...</td>\n",
       "      <td>-0.789275</td>\n",
       "      <td>0.01</td>\n",
       "      <td>0.01</td>\n",
       "      <td>0.0</td>\n",
       "      <td>0.00</td>\n",
       "      <td>0.00</td>\n",
       "      <td>0.00%</td>\n",
       "      <td>0.00%</td>\n",
       "      <td>NaN</td>\n",
       "      <td>NaN</td>\n",
       "    </tr>\n",
       "    <tr>\n",
       "      <th>3</th>\n",
       "      <td>3/2/2020</td>\n",
       "      <td>ID-RI</td>\n",
       "      <td>Riau</td>\n",
       "      <td>1</td>\n",
       "      <td>0</td>\n",
       "      <td>0</td>\n",
       "      <td>1</td>\n",
       "      <td>2</td>\n",
       "      <td>0</td>\n",
       "      <td>0</td>\n",
       "      <td>...</td>\n",
       "      <td>0.511648</td>\n",
       "      <td>0.16</td>\n",
       "      <td>0.33</td>\n",
       "      <td>0.0</td>\n",
       "      <td>0.00</td>\n",
       "      <td>0.00</td>\n",
       "      <td>0.00%</td>\n",
       "      <td>0.00%</td>\n",
       "      <td>NaN</td>\n",
       "      <td>NaN</td>\n",
       "    </tr>\n",
       "    <tr>\n",
       "      <th>4</th>\n",
       "      <td>3/3/2020</td>\n",
       "      <td>ID-JK</td>\n",
       "      <td>DKI Jakarta</td>\n",
       "      <td>2</td>\n",
       "      <td>0</td>\n",
       "      <td>0</td>\n",
       "      <td>2</td>\n",
       "      <td>43</td>\n",
       "      <td>20</td>\n",
       "      <td>39</td>\n",
       "      <td>...</td>\n",
       "      <td>-6.204699</td>\n",
       "      <td>0.18</td>\n",
       "      <td>3.96</td>\n",
       "      <td>0.0</td>\n",
       "      <td>1.84</td>\n",
       "      <td>0.18</td>\n",
       "      <td>46.51%</td>\n",
       "      <td>90.70%</td>\n",
       "      <td>1.0</td>\n",
       "      <td>1.0</td>\n",
       "    </tr>\n",
       "  </tbody>\n",
       "</table>\n",
       "<p>5 rows × 38 columns</p>\n",
       "</div>"
      ],
      "text/plain": [
       "       Date Location ISO Code     Location  New Cases  New Deaths  \\\n",
       "0  3/1/2020             ID-JK  DKI Jakarta          2           0   \n",
       "1  3/2/2020             ID-JK  DKI Jakarta          2           0   \n",
       "2  3/2/2020               IDN    Indonesia          2           0   \n",
       "3  3/2/2020             ID-RI         Riau          1           0   \n",
       "4  3/3/2020             ID-JK  DKI Jakarta          2           0   \n",
       "\n",
       "   New Recovered  New Active Cases  Total Cases  Total Deaths  \\\n",
       "0              0                 2           39            20   \n",
       "1              0                 2           41            20   \n",
       "2              0                 2            2             0   \n",
       "3              0                 1            2             0   \n",
       "4              0                 2           43            20   \n",
       "\n",
       "   Total Recovered  ...  Latitude New Cases per Million  \\\n",
       "0               39  ... -6.204699                  0.18   \n",
       "1               39  ... -6.204699                  0.18   \n",
       "2                0  ... -0.789275                  0.01   \n",
       "3                0  ...  0.511648                  0.16   \n",
       "4               39  ... -6.204699                  0.18   \n",
       "\n",
       "   Total Cases per Million New Deaths per Million Total Deaths per Million  \\\n",
       "0                     3.60                    0.0                     1.84   \n",
       "1                     3.78                    0.0                     1.84   \n",
       "2                     0.01                    0.0                     0.00   \n",
       "3                     0.33                    0.0                     0.00   \n",
       "4                     3.96                    0.0                     1.84   \n",
       "\n",
       "  Total Deaths per 100rb Case Fatality Rate Case Recovered Rate  \\\n",
       "0                   0.18             51.28%             100.00%   \n",
       "1                   0.18             48.78%              95.12%   \n",
       "2                   0.00              0.00%               0.00%   \n",
       "3                   0.00              0.00%               0.00%   \n",
       "4                   0.18             46.51%              90.70%   \n",
       "\n",
       "  Growth Factor of New Cases  Growth Factor of New Deaths  \n",
       "0                        NaN                          NaN  \n",
       "1                        1.0                          1.0  \n",
       "2                        NaN                          NaN  \n",
       "3                        NaN                          NaN  \n",
       "4                        1.0                          1.0  \n",
       "\n",
       "[5 rows x 38 columns]"
      ]
     },
     "execution_count": 81,
     "metadata": {},
     "output_type": "execute_result"
    }
   ],
   "source": [
    "df = pd.read_csv('covid_19_indonesia_time_series_all.csv')\n",
    "df.head()"
   ]
  },
  {
   "cell_type": "code",
   "execution_count": 82,
   "id": "b2b60cba",
   "metadata": {
    "scrolled": true
   },
   "outputs": [
    {
     "name": "stdout",
     "output_type": "stream",
     "text": [
      "<class 'pandas.core.frame.DataFrame'>\n",
      "RangeIndex: 20816 entries, 0 to 20815\n",
      "Data columns (total 38 columns):\n",
      " #   Column                       Non-Null Count  Dtype  \n",
      "---  ------                       --------------  -----  \n",
      " 0   Date                         20816 non-null  object \n",
      " 1   Location ISO Code            20816 non-null  object \n",
      " 2   Location                     20816 non-null  object \n",
      " 3   New Cases                    20816 non-null  int64  \n",
      " 4   New Deaths                   20816 non-null  int64  \n",
      " 5   New Recovered                20816 non-null  int64  \n",
      " 6   New Active Cases             20816 non-null  int64  \n",
      " 7   Total Cases                  20816 non-null  int64  \n",
      " 8   Total Deaths                 20816 non-null  int64  \n",
      " 9   Total Recovered              20816 non-null  int64  \n",
      " 10  Total Active Cases           20816 non-null  int64  \n",
      " 11  Location Level               20816 non-null  object \n",
      " 12  City or Regency              0 non-null      float64\n",
      " 13  Province                     20202 non-null  object \n",
      " 14  Country                      20816 non-null  object \n",
      " 15  Continent                    20816 non-null  object \n",
      " 16  Island                       20202 non-null  object \n",
      " 17  Time Zone                    20202 non-null  object \n",
      " 18  Special Status               2988 non-null   object \n",
      " 19  Total Regencies              20816 non-null  int64  \n",
      " 20  Total Cities                 20228 non-null  float64\n",
      " 21  Total Districts              20816 non-null  int64  \n",
      " 22  Total Urban Villages         20226 non-null  float64\n",
      " 23  Total Rural Villages         20201 non-null  float64\n",
      " 24  Area (km2)                   20816 non-null  int64  \n",
      " 25  Population                   20816 non-null  int64  \n",
      " 26  Population Density           20816 non-null  float64\n",
      " 27  Longitude                    20816 non-null  float64\n",
      " 28  Latitude                     20816 non-null  float64\n",
      " 29  New Cases per Million        20816 non-null  float64\n",
      " 30  Total Cases per Million      20816 non-null  float64\n",
      " 31  New Deaths per Million       20816 non-null  float64\n",
      " 32  Total Deaths per Million     20816 non-null  float64\n",
      " 33  Total Deaths per 100rb       20816 non-null  float64\n",
      " 34  Case Fatality Rate           20816 non-null  object \n",
      " 35  Case Recovered Rate          20816 non-null  object \n",
      " 36  Growth Factor of New Cases   19709 non-null  float64\n",
      " 37  Growth Factor of New Deaths  18449 non-null  float64\n",
      "dtypes: float64(14), int64(12), object(12)\n",
      "memory usage: 6.0+ MB\n"
     ]
    }
   ],
   "source": [
    "df.info()"
   ]
  },
  {
   "cell_type": "code",
   "execution_count": 83,
   "id": "a68638f5",
   "metadata": {},
   "outputs": [],
   "source": [
    "del df['City or Regency']"
   ]
  },
  {
   "cell_type": "code",
   "execution_count": 84,
   "id": "99f35800",
   "metadata": {},
   "outputs": [
    {
     "name": "stdout",
     "output_type": "stream",
     "text": [
      "<class 'pandas.core.frame.DataFrame'>\n",
      "RangeIndex: 20816 entries, 0 to 20815\n",
      "Data columns (total 37 columns):\n",
      " #   Column                       Non-Null Count  Dtype  \n",
      "---  ------                       --------------  -----  \n",
      " 0   Date                         20816 non-null  object \n",
      " 1   Location ISO Code            20816 non-null  object \n",
      " 2   Location                     20816 non-null  object \n",
      " 3   New Cases                    20816 non-null  int64  \n",
      " 4   New Deaths                   20816 non-null  int64  \n",
      " 5   New Recovered                20816 non-null  int64  \n",
      " 6   New Active Cases             20816 non-null  int64  \n",
      " 7   Total Cases                  20816 non-null  int64  \n",
      " 8   Total Deaths                 20816 non-null  int64  \n",
      " 9   Total Recovered              20816 non-null  int64  \n",
      " 10  Total Active Cases           20816 non-null  int64  \n",
      " 11  Location Level               20816 non-null  object \n",
      " 12  Province                     20202 non-null  object \n",
      " 13  Country                      20816 non-null  object \n",
      " 14  Continent                    20816 non-null  object \n",
      " 15  Island                       20202 non-null  object \n",
      " 16  Time Zone                    20202 non-null  object \n",
      " 17  Special Status               2988 non-null   object \n",
      " 18  Total Regencies              20816 non-null  int64  \n",
      " 19  Total Cities                 20228 non-null  float64\n",
      " 20  Total Districts              20816 non-null  int64  \n",
      " 21  Total Urban Villages         20226 non-null  float64\n",
      " 22  Total Rural Villages         20201 non-null  float64\n",
      " 23  Area (km2)                   20816 non-null  int64  \n",
      " 24  Population                   20816 non-null  int64  \n",
      " 25  Population Density           20816 non-null  float64\n",
      " 26  Longitude                    20816 non-null  float64\n",
      " 27  Latitude                     20816 non-null  float64\n",
      " 28  New Cases per Million        20816 non-null  float64\n",
      " 29  Total Cases per Million      20816 non-null  float64\n",
      " 30  New Deaths per Million       20816 non-null  float64\n",
      " 31  Total Deaths per Million     20816 non-null  float64\n",
      " 32  Total Deaths per 100rb       20816 non-null  float64\n",
      " 33  Case Fatality Rate           20816 non-null  object \n",
      " 34  Case Recovered Rate          20816 non-null  object \n",
      " 35  Growth Factor of New Cases   19709 non-null  float64\n",
      " 36  Growth Factor of New Deaths  18449 non-null  float64\n",
      "dtypes: float64(13), int64(12), object(12)\n",
      "memory usage: 5.9+ MB\n"
     ]
    }
   ],
   "source": [
    "df.info()"
   ]
  },
  {
   "cell_type": "markdown",
   "id": "45e119d2",
   "metadata": {},
   "source": [
    "# Data Processing & Answer"
   ]
  },
  {
   "cell_type": "code",
   "execution_count": 85,
   "id": "1af1e7df",
   "metadata": {
    "scrolled": true
   },
   "outputs": [
    {
     "data": {
      "text/html": [
       "<div>\n",
       "<style scoped>\n",
       "    .dataframe tbody tr th:only-of-type {\n",
       "        vertical-align: middle;\n",
       "    }\n",
       "\n",
       "    .dataframe tbody tr th {\n",
       "        vertical-align: top;\n",
       "    }\n",
       "\n",
       "    .dataframe thead th {\n",
       "        text-align: right;\n",
       "    }\n",
       "</style>\n",
       "<table border=\"1\" class=\"dataframe\">\n",
       "  <thead>\n",
       "    <tr style=\"text-align: right;\">\n",
       "      <th></th>\n",
       "      <th>New Cases</th>\n",
       "      <th>New Deaths</th>\n",
       "      <th>New Recovered</th>\n",
       "      <th>New Active Cases</th>\n",
       "      <th>Total Cases</th>\n",
       "      <th>Total Deaths</th>\n",
       "      <th>Total Recovered</th>\n",
       "      <th>Total Active Cases</th>\n",
       "      <th>Total Regencies</th>\n",
       "      <th>Total Cities</th>\n",
       "      <th>...</th>\n",
       "      <th>Population Density</th>\n",
       "      <th>Longitude</th>\n",
       "      <th>Latitude</th>\n",
       "      <th>New Cases per Million</th>\n",
       "      <th>Total Cases per Million</th>\n",
       "      <th>New Deaths per Million</th>\n",
       "      <th>Total Deaths per Million</th>\n",
       "      <th>Total Deaths per 100rb</th>\n",
       "      <th>Growth Factor of New Cases</th>\n",
       "      <th>Growth Factor of New Deaths</th>\n",
       "    </tr>\n",
       "  </thead>\n",
       "  <tbody>\n",
       "    <tr>\n",
       "      <th>count</th>\n",
       "      <td>20816.000000</td>\n",
       "      <td>20816.000000</td>\n",
       "      <td>20816.000000</td>\n",
       "      <td>20816.000000</td>\n",
       "      <td>2.081600e+04</td>\n",
       "      <td>20816.000000</td>\n",
       "      <td>2.081600e+04</td>\n",
       "      <td>20816.000000</td>\n",
       "      <td>20816.000000</td>\n",
       "      <td>20228.000000</td>\n",
       "      <td>...</td>\n",
       "      <td>20816.000000</td>\n",
       "      <td>20816.000000</td>\n",
       "      <td>20816.000000</td>\n",
       "      <td>20816.000000</td>\n",
       "      <td>20816.000000</td>\n",
       "      <td>20816.000000</td>\n",
       "      <td>20816.000000</td>\n",
       "      <td>20816.000000</td>\n",
       "      <td>19709.000000</td>\n",
       "      <td>18449.000000</td>\n",
       "    </tr>\n",
       "    <tr>\n",
       "      <th>mean</th>\n",
       "      <td>408.078257</td>\n",
       "      <td>13.784829</td>\n",
       "      <td>393.044341</td>\n",
       "      <td>1.249087</td>\n",
       "      <td>7.788760e+04</td>\n",
       "      <td>2388.498463</td>\n",
       "      <td>6.935489e+04</td>\n",
       "      <td>6144.216132</td>\n",
       "      <td>24.155073</td>\n",
       "      <td>5.872306</td>\n",
       "      <td>...</td>\n",
       "      <td>745.753554</td>\n",
       "      <td>113.682529</td>\n",
       "      <td>-2.730658</td>\n",
       "      <td>30.650065</td>\n",
       "      <td>5639.051564</td>\n",
       "      <td>0.888246</td>\n",
       "      <td>147.020981</td>\n",
       "      <td>14.702046</td>\n",
       "      <td>1.402367</td>\n",
       "      <td>1.080908</td>\n",
       "    </tr>\n",
       "    <tr>\n",
       "      <th>std</th>\n",
       "      <td>2119.450324</td>\n",
       "      <td>78.146224</td>\n",
       "      <td>2042.353301</td>\n",
       "      <td>958.146043</td>\n",
       "      <td>3.417859e+05</td>\n",
       "      <td>10758.160910</td>\n",
       "      <td>3.124817e+05</td>\n",
       "      <td>28108.333301</td>\n",
       "      <td>68.699338</td>\n",
       "      <td>16.469371</td>\n",
       "      <td>...</td>\n",
       "      <td>2744.954621</td>\n",
       "      <td>9.856053</td>\n",
       "      <td>3.609097</td>\n",
       "      <td>71.250664</td>\n",
       "      <td>9614.992076</td>\n",
       "      <td>2.321385</td>\n",
       "      <td>233.384058</td>\n",
       "      <td>23.338412</td>\n",
       "      <td>3.131338</td>\n",
       "      <td>1.608258</td>\n",
       "    </tr>\n",
       "    <tr>\n",
       "      <th>min</th>\n",
       "      <td>0.000000</td>\n",
       "      <td>0.000000</td>\n",
       "      <td>0.000000</td>\n",
       "      <td>-25725.000000</td>\n",
       "      <td>1.000000e+00</td>\n",
       "      <td>0.000000</td>\n",
       "      <td>0.000000e+00</td>\n",
       "      <td>-2305.000000</td>\n",
       "      <td>1.000000</td>\n",
       "      <td>1.000000</td>\n",
       "      <td>...</td>\n",
       "      <td>8.590000</td>\n",
       "      <td>96.910522</td>\n",
       "      <td>-8.682205</td>\n",
       "      <td>0.000000</td>\n",
       "      <td>0.010000</td>\n",
       "      <td>0.000000</td>\n",
       "      <td>0.000000</td>\n",
       "      <td>0.000000</td>\n",
       "      <td>0.000000</td>\n",
       "      <td>0.000000</td>\n",
       "    </tr>\n",
       "    <tr>\n",
       "      <th>25%</th>\n",
       "      <td>8.000000</td>\n",
       "      <td>0.000000</td>\n",
       "      <td>4.000000</td>\n",
       "      <td>-17.000000</td>\n",
       "      <td>1.579500e+03</td>\n",
       "      <td>43.000000</td>\n",
       "      <td>8.730000e+02</td>\n",
       "      <td>217.000000</td>\n",
       "      <td>7.000000</td>\n",
       "      <td>1.000000</td>\n",
       "      <td>...</td>\n",
       "      <td>47.790000</td>\n",
       "      <td>106.109004</td>\n",
       "      <td>-6.204699</td>\n",
       "      <td>2.240000</td>\n",
       "      <td>361.042500</td>\n",
       "      <td>0.000000</td>\n",
       "      <td>9.200000</td>\n",
       "      <td>0.920000</td>\n",
       "      <td>0.660000</td>\n",
       "      <td>0.630000</td>\n",
       "    </tr>\n",
       "    <tr>\n",
       "      <th>50%</th>\n",
       "      <td>45.000000</td>\n",
       "      <td>1.000000</td>\n",
       "      <td>35.000000</td>\n",
       "      <td>1.000000</td>\n",
       "      <td>9.827000e+03</td>\n",
       "      <td>253.000000</td>\n",
       "      <td>7.739000e+03</td>\n",
       "      <td>1002.000000</td>\n",
       "      <td>11.000000</td>\n",
       "      <td>2.000000</td>\n",
       "      <td>...</td>\n",
       "      <td>103.840000</td>\n",
       "      <td>113.417654</td>\n",
       "      <td>-2.461746</td>\n",
       "      <td>9.010000</td>\n",
       "      <td>2423.560000</td>\n",
       "      <td>0.190000</td>\n",
       "      <td>68.220000</td>\n",
       "      <td>6.820000</td>\n",
       "      <td>0.990000</td>\n",
       "      <td>1.000000</td>\n",
       "    </tr>\n",
       "    <tr>\n",
       "      <th>75%</th>\n",
       "      <td>161.000000</td>\n",
       "      <td>5.000000</td>\n",
       "      <td>152.000000</td>\n",
       "      <td>29.000000</td>\n",
       "      <td>3.363625e+04</td>\n",
       "      <td>949.000000</td>\n",
       "      <td>2.918100e+04</td>\n",
       "      <td>2748.250000</td>\n",
       "      <td>18.000000</td>\n",
       "      <td>4.000000</td>\n",
       "      <td>...</td>\n",
       "      <td>262.700000</td>\n",
       "      <td>121.201093</td>\n",
       "      <td>0.212037</td>\n",
       "      <td>27.610000</td>\n",
       "      <td>6701.827500</td>\n",
       "      <td>0.760000</td>\n",
       "      <td>175.712500</td>\n",
       "      <td>17.572500</td>\n",
       "      <td>1.330000</td>\n",
       "      <td>1.000000</td>\n",
       "    </tr>\n",
       "    <tr>\n",
       "      <th>max</th>\n",
       "      <td>56757.000000</td>\n",
       "      <td>2069.000000</td>\n",
       "      <td>48832.000000</td>\n",
       "      <td>36726.000000</td>\n",
       "      <td>4.247320e+06</td>\n",
       "      <td>143519.000000</td>\n",
       "      <td>4.092586e+06</td>\n",
       "      <td>574135.000000</td>\n",
       "      <td>416.000000</td>\n",
       "      <td>98.000000</td>\n",
       "      <td>...</td>\n",
       "      <td>16334.310000</td>\n",
       "      <td>138.696030</td>\n",
       "      <td>4.225615</td>\n",
       "      <td>1348.130000</td>\n",
       "      <td>79481.050000</td>\n",
       "      <td>63.800000</td>\n",
       "      <td>1533.420000</td>\n",
       "      <td>153.340000</td>\n",
       "      <td>175.000000</td>\n",
       "      <td>134.500000</td>\n",
       "    </tr>\n",
       "  </tbody>\n",
       "</table>\n",
       "<p>8 rows × 25 columns</p>\n",
       "</div>"
      ],
      "text/plain": [
       "          New Cases    New Deaths  New Recovered  New Active Cases  \\\n",
       "count  20816.000000  20816.000000   20816.000000      20816.000000   \n",
       "mean     408.078257     13.784829     393.044341          1.249087   \n",
       "std     2119.450324     78.146224    2042.353301        958.146043   \n",
       "min        0.000000      0.000000       0.000000     -25725.000000   \n",
       "25%        8.000000      0.000000       4.000000        -17.000000   \n",
       "50%       45.000000      1.000000      35.000000          1.000000   \n",
       "75%      161.000000      5.000000     152.000000         29.000000   \n",
       "max    56757.000000   2069.000000   48832.000000      36726.000000   \n",
       "\n",
       "        Total Cases   Total Deaths  Total Recovered  Total Active Cases  \\\n",
       "count  2.081600e+04   20816.000000     2.081600e+04        20816.000000   \n",
       "mean   7.788760e+04    2388.498463     6.935489e+04         6144.216132   \n",
       "std    3.417859e+05   10758.160910     3.124817e+05        28108.333301   \n",
       "min    1.000000e+00       0.000000     0.000000e+00        -2305.000000   \n",
       "25%    1.579500e+03      43.000000     8.730000e+02          217.000000   \n",
       "50%    9.827000e+03     253.000000     7.739000e+03         1002.000000   \n",
       "75%    3.363625e+04     949.000000     2.918100e+04         2748.250000   \n",
       "max    4.247320e+06  143519.000000     4.092586e+06       574135.000000   \n",
       "\n",
       "       Total Regencies  Total Cities  ...  Population Density     Longitude  \\\n",
       "count     20816.000000  20228.000000  ...        20816.000000  20816.000000   \n",
       "mean         24.155073      5.872306  ...          745.753554    113.682529   \n",
       "std          68.699338     16.469371  ...         2744.954621      9.856053   \n",
       "min           1.000000      1.000000  ...            8.590000     96.910522   \n",
       "25%           7.000000      1.000000  ...           47.790000    106.109004   \n",
       "50%          11.000000      2.000000  ...          103.840000    113.417654   \n",
       "75%          18.000000      4.000000  ...          262.700000    121.201093   \n",
       "max         416.000000     98.000000  ...        16334.310000    138.696030   \n",
       "\n",
       "           Latitude  New Cases per Million  Total Cases per Million  \\\n",
       "count  20816.000000           20816.000000             20816.000000   \n",
       "mean      -2.730658              30.650065              5639.051564   \n",
       "std        3.609097              71.250664              9614.992076   \n",
       "min       -8.682205               0.000000                 0.010000   \n",
       "25%       -6.204699               2.240000               361.042500   \n",
       "50%       -2.461746               9.010000              2423.560000   \n",
       "75%        0.212037              27.610000              6701.827500   \n",
       "max        4.225615            1348.130000             79481.050000   \n",
       "\n",
       "       New Deaths per Million  Total Deaths per Million  \\\n",
       "count            20816.000000              20816.000000   \n",
       "mean                 0.888246                147.020981   \n",
       "std                  2.321385                233.384058   \n",
       "min                  0.000000                  0.000000   \n",
       "25%                  0.000000                  9.200000   \n",
       "50%                  0.190000                 68.220000   \n",
       "75%                  0.760000                175.712500   \n",
       "max                 63.800000               1533.420000   \n",
       "\n",
       "       Total Deaths per 100rb  Growth Factor of New Cases  \\\n",
       "count            20816.000000                19709.000000   \n",
       "mean                14.702046                    1.402367   \n",
       "std                 23.338412                    3.131338   \n",
       "min                  0.000000                    0.000000   \n",
       "25%                  0.920000                    0.660000   \n",
       "50%                  6.820000                    0.990000   \n",
       "75%                 17.572500                    1.330000   \n",
       "max                153.340000                  175.000000   \n",
       "\n",
       "       Growth Factor of New Deaths  \n",
       "count                 18449.000000  \n",
       "mean                      1.080908  \n",
       "std                       1.608258  \n",
       "min                       0.000000  \n",
       "25%                       0.630000  \n",
       "50%                       1.000000  \n",
       "75%                       1.000000  \n",
       "max                     134.500000  \n",
       "\n",
       "[8 rows x 25 columns]"
      ]
     },
     "execution_count": 85,
     "metadata": {},
     "output_type": "execute_result"
    }
   ],
   "source": [
    "df_new = df.describe()\n",
    "df_new"
   ]
  },
  {
   "cell_type": "markdown",
   "id": "240d7bb7",
   "metadata": {},
   "source": [
    "## Central Tendency"
   ]
  },
  {
   "cell_type": "code",
   "execution_count": 86,
   "id": "d3d8efbc",
   "metadata": {},
   "outputs": [
    {
     "data": {
      "text/plain": [
       "New Cases                      4.080783e+02\n",
       "New Deaths                     1.378483e+01\n",
       "New Recovered                  3.930443e+02\n",
       "New Active Cases               1.249087e+00\n",
       "Total Cases                    7.788760e+04\n",
       "Total Deaths                   2.388498e+03\n",
       "Total Recovered                6.935489e+04\n",
       "Total Active Cases             6.144216e+03\n",
       "Total Regencies                2.415507e+01\n",
       "Total Cities                   5.872306e+00\n",
       "Total Districts                4.203812e+02\n",
       "Total Urban Villages           5.086923e+02\n",
       "Total Rural Villages           4.489751e+03\n",
       "Area (km2)                     1.112142e+05\n",
       "Population                     1.547845e+07\n",
       "Population Density             7.457536e+02\n",
       "Longitude                      1.136825e+02\n",
       "Latitude                      -2.730658e+00\n",
       "New Cases per Million          3.065007e+01\n",
       "Total Cases per Million        5.639052e+03\n",
       "New Deaths per Million         8.882456e-01\n",
       "Total Deaths per Million       1.470210e+02\n",
       "Total Deaths per 100rb         1.470205e+01\n",
       "Growth Factor of New Cases     1.402367e+00\n",
       "Growth Factor of New Deaths    1.080908e+00\n",
       "dtype: float64"
      ]
     },
     "execution_count": 86,
     "metadata": {},
     "output_type": "execute_result"
    }
   ],
   "source": [
    "df[df_new.columns].mean()"
   ]
  },
  {
   "cell_type": "code",
   "execution_count": 87,
   "id": "c31c98de",
   "metadata": {},
   "outputs": [
    {
     "data": {
      "text/plain": [
       "New Cases                      4.500000e+01\n",
       "New Deaths                     1.000000e+00\n",
       "New Recovered                  3.500000e+01\n",
       "New Active Cases               1.000000e+00\n",
       "Total Cases                    9.827000e+03\n",
       "Total Deaths                   2.530000e+02\n",
       "Total Recovered                7.739000e+03\n",
       "Total Active Cases             1.002000e+03\n",
       "Total Regencies                1.100000e+01\n",
       "Total Cities                   2.000000e+00\n",
       "Total Districts                1.690000e+02\n",
       "Total Urban Villages           1.750000e+02\n",
       "Total Rural Villages           1.591000e+03\n",
       "Area (km2)                     4.201300e+04\n",
       "Population                     4.216171e+06\n",
       "Population Density             1.038400e+02\n",
       "Longitude                      1.134177e+02\n",
       "Latitude                      -2.461746e+00\n",
       "New Cases per Million          9.010000e+00\n",
       "Total Cases per Million        2.423560e+03\n",
       "New Deaths per Million         1.900000e-01\n",
       "Total Deaths per Million       6.822000e+01\n",
       "Total Deaths per 100rb         6.820000e+00\n",
       "Growth Factor of New Cases     9.900000e-01\n",
       "Growth Factor of New Deaths    1.000000e+00\n",
       "dtype: float64"
      ]
     },
     "execution_count": 87,
     "metadata": {},
     "output_type": "execute_result"
    }
   ],
   "source": [
    "df[df_new.columns].median()"
   ]
  },
  {
   "cell_type": "code",
   "execution_count": 88,
   "id": "640d108b",
   "metadata": {
    "scrolled": true
   },
   "outputs": [
    {
     "data": {
      "text/html": [
       "<div>\n",
       "<style scoped>\n",
       "    .dataframe tbody tr th:only-of-type {\n",
       "        vertical-align: middle;\n",
       "    }\n",
       "\n",
       "    .dataframe tbody tr th {\n",
       "        vertical-align: top;\n",
       "    }\n",
       "\n",
       "    .dataframe thead th {\n",
       "        text-align: right;\n",
       "    }\n",
       "</style>\n",
       "<table border=\"1\" class=\"dataframe\">\n",
       "  <thead>\n",
       "    <tr style=\"text-align: right;\">\n",
       "      <th></th>\n",
       "      <th>New Cases</th>\n",
       "      <th>New Deaths</th>\n",
       "      <th>New Recovered</th>\n",
       "      <th>New Active Cases</th>\n",
       "      <th>Total Cases</th>\n",
       "      <th>Total Deaths</th>\n",
       "      <th>Total Recovered</th>\n",
       "      <th>Total Active Cases</th>\n",
       "      <th>Total Regencies</th>\n",
       "      <th>Total Cities</th>\n",
       "      <th>...</th>\n",
       "      <th>Population Density</th>\n",
       "      <th>Longitude</th>\n",
       "      <th>Latitude</th>\n",
       "      <th>New Cases per Million</th>\n",
       "      <th>Total Cases per Million</th>\n",
       "      <th>New Deaths per Million</th>\n",
       "      <th>Total Deaths per Million</th>\n",
       "      <th>Total Deaths per 100rb</th>\n",
       "      <th>Growth Factor of New Cases</th>\n",
       "      <th>Growth Factor of New Deaths</th>\n",
       "    </tr>\n",
       "  </thead>\n",
       "  <tbody>\n",
       "    <tr>\n",
       "      <th>0</th>\n",
       "      <td>0.0</td>\n",
       "      <td>0.0</td>\n",
       "      <td>0.0</td>\n",
       "      <td>0.0</td>\n",
       "      <td>2.0</td>\n",
       "      <td>1.0</td>\n",
       "      <td>0.0</td>\n",
       "      <td>1.0</td>\n",
       "      <td>12.0</td>\n",
       "      <td>1.0</td>\n",
       "      <td>...</td>\n",
       "      <td>16334.31</td>\n",
       "      <td>106.836118</td>\n",
       "      <td>-6.204699</td>\n",
       "      <td>0.0</td>\n",
       "      <td>0.33</td>\n",
       "      <td>0.0</td>\n",
       "      <td>0.0</td>\n",
       "      <td>0.0</td>\n",
       "      <td>1.0</td>\n",
       "      <td>1.0</td>\n",
       "    </tr>\n",
       "    <tr>\n",
       "      <th>1</th>\n",
       "      <td>NaN</td>\n",
       "      <td>NaN</td>\n",
       "      <td>NaN</td>\n",
       "      <td>NaN</td>\n",
       "      <td>NaN</td>\n",
       "      <td>NaN</td>\n",
       "      <td>NaN</td>\n",
       "      <td>NaN</td>\n",
       "      <td>NaN</td>\n",
       "      <td>NaN</td>\n",
       "      <td>...</td>\n",
       "      <td>NaN</td>\n",
       "      <td>NaN</td>\n",
       "      <td>NaN</td>\n",
       "      <td>NaN</td>\n",
       "      <td>NaN</td>\n",
       "      <td>NaN</td>\n",
       "      <td>NaN</td>\n",
       "      <td>NaN</td>\n",
       "      <td>NaN</td>\n",
       "      <td>NaN</td>\n",
       "    </tr>\n",
       "  </tbody>\n",
       "</table>\n",
       "<p>2 rows × 25 columns</p>\n",
       "</div>"
      ],
      "text/plain": [
       "   New Cases  New Deaths  New Recovered  New Active Cases  Total Cases  \\\n",
       "0        0.0         0.0            0.0               0.0          2.0   \n",
       "1        NaN         NaN            NaN               NaN          NaN   \n",
       "\n",
       "   Total Deaths  Total Recovered  Total Active Cases  Total Regencies  \\\n",
       "0           1.0              0.0                 1.0             12.0   \n",
       "1           NaN              NaN                 NaN              NaN   \n",
       "\n",
       "   Total Cities  ...  Population Density   Longitude  Latitude  \\\n",
       "0           1.0  ...            16334.31  106.836118 -6.204699   \n",
       "1           NaN  ...                 NaN         NaN       NaN   \n",
       "\n",
       "   New Cases per Million  Total Cases per Million  New Deaths per Million  \\\n",
       "0                    0.0                     0.33                     0.0   \n",
       "1                    NaN                      NaN                     NaN   \n",
       "\n",
       "   Total Deaths per Million  Total Deaths per 100rb  \\\n",
       "0                       0.0                     0.0   \n",
       "1                       NaN                     NaN   \n",
       "\n",
       "   Growth Factor of New Cases  Growth Factor of New Deaths  \n",
       "0                         1.0                          1.0  \n",
       "1                         NaN                          NaN  \n",
       "\n",
       "[2 rows x 25 columns]"
      ]
     },
     "execution_count": 88,
     "metadata": {},
     "output_type": "execute_result"
    }
   ],
   "source": [
    "df[df_new.columns].mode()"
   ]
  },
  {
   "cell_type": "markdown",
   "id": "2cf8bb63",
   "metadata": {},
   "source": [
    "## Variance"
   ]
  },
  {
   "cell_type": "markdown",
   "id": "e7c863d0",
   "metadata": {},
   "source": [
    "- Range"
   ]
  },
  {
   "cell_type": "code",
   "execution_count": 89,
   "id": "c3dfff70",
   "metadata": {},
   "outputs": [
    {
     "data": {
      "text/plain": [
       "New Cases                      5.675700e+04\n",
       "New Deaths                     2.069000e+03\n",
       "New Recovered                  4.883200e+04\n",
       "New Active Cases               6.245100e+04\n",
       "Total Cases                    4.247319e+06\n",
       "Total Deaths                   1.435190e+05\n",
       "Total Recovered                4.092586e+06\n",
       "Total Active Cases             5.764400e+05\n",
       "Total Regencies                4.150000e+02\n",
       "Total Cities                   9.700000e+01\n",
       "Total Districts                7.186000e+03\n",
       "Total Urban Villages           8.453000e+03\n",
       "Total Rural Villages           7.467800e+04\n",
       "Area (km2)                     1.916243e+06\n",
       "Population                     2.645371e+08\n",
       "Population Density             1.632572e+04\n",
       "Longitude                      4.178551e+01\n",
       "Latitude                       1.290782e+01\n",
       "New Cases per Million          1.348130e+03\n",
       "Total Cases per Million        7.948104e+04\n",
       "New Deaths per Million         6.380000e+01\n",
       "Total Deaths per Million       1.533420e+03\n",
       "Total Deaths per 100rb         1.533400e+02\n",
       "Growth Factor of New Cases     1.750000e+02\n",
       "Growth Factor of New Deaths    1.345000e+02\n",
       "dtype: float64"
      ]
     },
     "execution_count": 89,
     "metadata": {},
     "output_type": "execute_result"
    }
   ],
   "source": [
    "df[df_new.columns].max() - df[df_new.columns].min()"
   ]
  },
  {
   "cell_type": "markdown",
   "id": "d99e6bfe",
   "metadata": {},
   "source": [
    "- Variance"
   ]
  },
  {
   "cell_type": "code",
   "execution_count": 90,
   "id": "c40b7b5a",
   "metadata": {},
   "outputs": [
    {
     "data": {
      "text/plain": [
       "New Cases                      4.492070e+06\n",
       "New Deaths                     6.106832e+03\n",
       "New Recovered                  4.171207e+06\n",
       "New Active Cases               9.180438e+05\n",
       "Total Cases                    1.168176e+11\n",
       "Total Deaths                   1.157380e+08\n",
       "Total Recovered                9.764479e+10\n",
       "Total Active Cases             7.900784e+08\n",
       "Total Regencies                4.719599e+03\n",
       "Total Cities                   2.712402e+02\n",
       "Total Districts                1.437271e+06\n",
       "Total Urban Villages           2.041830e+06\n",
       "Total Rural Villages           1.599258e+08\n",
       "Area (km2)                     1.026137e+11\n",
       "Population                     2.009759e+15\n",
       "Population Density             7.534776e+06\n",
       "Longitude                      9.714178e+01\n",
       "Latitude                       1.302558e+01\n",
       "New Cases per Million          5.076657e+03\n",
       "Total Cases per Million        9.244807e+07\n",
       "New Deaths per Million         5.388828e+00\n",
       "Total Deaths per Million       5.446812e+04\n",
       "Total Deaths per 100rb         5.446815e+02\n",
       "Growth Factor of New Cases     9.805277e+00\n",
       "Growth Factor of New Deaths    2.586493e+00\n",
       "dtype: float64"
      ]
     },
     "execution_count": 90,
     "metadata": {},
     "output_type": "execute_result"
    }
   ],
   "source": [
    "df[df_new.columns].var()"
   ]
  },
  {
   "cell_type": "markdown",
   "id": "448b4f2c",
   "metadata": {},
   "source": [
    "- Standard Deviation"
   ]
  },
  {
   "cell_type": "code",
   "execution_count": 91,
   "id": "74e77729",
   "metadata": {},
   "outputs": [
    {
     "data": {
      "text/plain": [
       "New Cases                      2.119450e+03\n",
       "New Deaths                     7.814622e+01\n",
       "New Recovered                  2.042353e+03\n",
       "New Active Cases               9.581460e+02\n",
       "Total Cases                    3.417859e+05\n",
       "Total Deaths                   1.075816e+04\n",
       "Total Recovered                3.124817e+05\n",
       "Total Active Cases             2.810833e+04\n",
       "Total Regencies                6.869934e+01\n",
       "Total Cities                   1.646937e+01\n",
       "Total Districts                1.198862e+03\n",
       "Total Urban Villages           1.428926e+03\n",
       "Total Rural Villages           1.264618e+04\n",
       "Area (km2)                     3.203338e+05\n",
       "Population                     4.483034e+07\n",
       "Population Density             2.744955e+03\n",
       "Longitude                      9.856053e+00\n",
       "Latitude                       3.609097e+00\n",
       "New Cases per Million          7.125066e+01\n",
       "Total Cases per Million        9.614992e+03\n",
       "New Deaths per Million         2.321385e+00\n",
       "Total Deaths per Million       2.333841e+02\n",
       "Total Deaths per 100rb         2.333841e+01\n",
       "Growth Factor of New Cases     3.131338e+00\n",
       "Growth Factor of New Deaths    1.608258e+00\n",
       "dtype: float64"
      ]
     },
     "execution_count": 91,
     "metadata": {},
     "output_type": "execute_result"
    }
   ],
   "source": [
    "df[df_new.columns].std()"
   ]
  },
  {
   "cell_type": "markdown",
   "id": "31caca95",
   "metadata": {},
   "source": [
    "- Quantile 0.25"
   ]
  },
  {
   "cell_type": "code",
   "execution_count": 92,
   "id": "000ac96a",
   "metadata": {},
   "outputs": [
    {
     "data": {
      "text/plain": [
       "New Cases                      8.000000e+00\n",
       "New Deaths                     0.000000e+00\n",
       "New Recovered                  4.000000e+00\n",
       "New Active Cases              -1.700000e+01\n",
       "Total Cases                    1.579500e+03\n",
       "Total Deaths                   4.300000e+01\n",
       "Total Recovered                8.730000e+02\n",
       "Total Active Cases             2.170000e+02\n",
       "Total Regencies                7.000000e+00\n",
       "Total Cities                   1.000000e+00\n",
       "Total Districts                1.030000e+02\n",
       "Total Urban Villages           9.900000e+01\n",
       "Total Rural Villages           9.280000e+02\n",
       "Area (km2)                     1.678700e+04\n",
       "Population                     1.999539e+06\n",
       "Population Density             4.779000e+01\n",
       "Longitude                      1.061090e+02\n",
       "Latitude                      -6.204699e+00\n",
       "New Cases per Million          2.240000e+00\n",
       "Total Cases per Million        3.610425e+02\n",
       "New Deaths per Million         0.000000e+00\n",
       "Total Deaths per Million       9.200000e+00\n",
       "Total Deaths per 100rb         9.200000e-01\n",
       "Growth Factor of New Cases     6.600000e-01\n",
       "Growth Factor of New Deaths    6.300000e-01\n",
       "Name: 0.25, dtype: float64"
      ]
     },
     "execution_count": 92,
     "metadata": {},
     "output_type": "execute_result"
    }
   ],
   "source": [
    "df[df_new.columns].quantile(0.25)"
   ]
  },
  {
   "cell_type": "markdown",
   "id": "cf30bcc8",
   "metadata": {},
   "source": [
    "- Quantile 0.5"
   ]
  },
  {
   "cell_type": "code",
   "execution_count": 93,
   "id": "639ba15b",
   "metadata": {},
   "outputs": [
    {
     "data": {
      "text/plain": [
       "New Cases                      4.500000e+01\n",
       "New Deaths                     1.000000e+00\n",
       "New Recovered                  3.500000e+01\n",
       "New Active Cases               1.000000e+00\n",
       "Total Cases                    9.827000e+03\n",
       "Total Deaths                   2.530000e+02\n",
       "Total Recovered                7.739000e+03\n",
       "Total Active Cases             1.002000e+03\n",
       "Total Regencies                1.100000e+01\n",
       "Total Cities                   2.000000e+00\n",
       "Total Districts                1.690000e+02\n",
       "Total Urban Villages           1.750000e+02\n",
       "Total Rural Villages           1.591000e+03\n",
       "Area (km2)                     4.201300e+04\n",
       "Population                     4.216171e+06\n",
       "Population Density             1.038400e+02\n",
       "Longitude                      1.134177e+02\n",
       "Latitude                      -2.461746e+00\n",
       "New Cases per Million          9.010000e+00\n",
       "Total Cases per Million        2.423560e+03\n",
       "New Deaths per Million         1.900000e-01\n",
       "Total Deaths per Million       6.822000e+01\n",
       "Total Deaths per 100rb         6.820000e+00\n",
       "Growth Factor of New Cases     9.900000e-01\n",
       "Growth Factor of New Deaths    1.000000e+00\n",
       "Name: 0.5, dtype: float64"
      ]
     },
     "execution_count": 93,
     "metadata": {},
     "output_type": "execute_result"
    }
   ],
   "source": [
    "df[df_new.columns].quantile(0.5)"
   ]
  },
  {
   "cell_type": "markdown",
   "id": "325f2c17",
   "metadata": {},
   "source": [
    "- Quantile 0.75"
   ]
  },
  {
   "cell_type": "code",
   "execution_count": 94,
   "id": "4f3bf277",
   "metadata": {},
   "outputs": [
    {
     "data": {
      "text/plain": [
       "New Cases                      1.610000e+02\n",
       "New Deaths                     5.000000e+00\n",
       "New Recovered                  1.520000e+02\n",
       "New Active Cases               2.900000e+01\n",
       "Total Cases                    3.363625e+04\n",
       "Total Deaths                   9.490000e+02\n",
       "Total Recovered                2.918100e+04\n",
       "Total Active Cases             2.748250e+03\n",
       "Total Regencies                1.800000e+01\n",
       "Total Cities                   4.000000e+00\n",
       "Total Districts                2.890000e+02\n",
       "Total Urban Villages           3.320000e+02\n",
       "Total Rural Villages           2.853000e+03\n",
       "Area (km2)                     7.546800e+04\n",
       "Population                     9.095591e+06\n",
       "Population Density             2.627000e+02\n",
       "Longitude                      1.212011e+02\n",
       "Latitude                       2.120369e-01\n",
       "New Cases per Million          2.761000e+01\n",
       "Total Cases per Million        6.701828e+03\n",
       "New Deaths per Million         7.600000e-01\n",
       "Total Deaths per Million       1.757125e+02\n",
       "Total Deaths per 100rb         1.757250e+01\n",
       "Growth Factor of New Cases     1.330000e+00\n",
       "Growth Factor of New Deaths    1.000000e+00\n",
       "Name: 0.75, dtype: float64"
      ]
     },
     "execution_count": 94,
     "metadata": {},
     "output_type": "execute_result"
    }
   ],
   "source": [
    "df[df_new.columns].quantile(0.75)"
   ]
  },
  {
   "cell_type": "markdown",
   "id": "29842ae6",
   "metadata": {},
   "source": [
    "## Tambahan"
   ]
  },
  {
   "cell_type": "markdown",
   "id": "9407e98b",
   "metadata": {},
   "source": [
    "## Objective"
   ]
  },
  {
   "cell_type": "markdown",
   "id": "83ebc948",
   "metadata": {},
   "source": [
    "1. Mencari nilai central tendency dari New Cases dari data\n",
    "2. Mencari nilai variance dari New Cases dari data"
   ]
  },
  {
   "cell_type": "markdown",
   "id": "36303f08",
   "metadata": {},
   "source": [
    "## Proccessing"
   ]
  },
  {
   "cell_type": "code",
   "execution_count": 95,
   "id": "08f3a532",
   "metadata": {},
   "outputs": [
    {
     "data": {
      "text/plain": [
       "0         2\n",
       "1         2\n",
       "2         2\n",
       "3         1\n",
       "4         2\n",
       "         ..\n",
       "20811    11\n",
       "20812     3\n",
       "20813     1\n",
       "20814     1\n",
       "20815     7\n",
       "Name: New Cases, Length: 20816, dtype: int64"
      ]
     },
     "execution_count": 95,
     "metadata": {},
     "output_type": "execute_result"
    }
   ],
   "source": [
    "df['New Cases']"
   ]
  },
  {
   "cell_type": "markdown",
   "id": "552eafc2",
   "metadata": {},
   "source": [
    "### Central Tendency"
   ]
  },
  {
   "cell_type": "markdown",
   "id": "f57e3585",
   "metadata": {},
   "source": [
    " - Mean"
   ]
  },
  {
   "cell_type": "code",
   "execution_count": 96,
   "id": "357c76bb",
   "metadata": {},
   "outputs": [
    {
     "data": {
      "text/plain": [
       "408.07825710991546"
      ]
     },
     "execution_count": 96,
     "metadata": {},
     "output_type": "execute_result"
    }
   ],
   "source": [
    "df['New Cases'].mean()"
   ]
  },
  {
   "cell_type": "markdown",
   "id": "f5d802f0",
   "metadata": {},
   "source": [
    "- Median"
   ]
  },
  {
   "cell_type": "code",
   "execution_count": 97,
   "id": "8eeaabaa",
   "metadata": {},
   "outputs": [
    {
     "data": {
      "text/plain": [
       "45.0"
      ]
     },
     "execution_count": 97,
     "metadata": {},
     "output_type": "execute_result"
    }
   ],
   "source": [
    "df[\"New Cases\"].median()"
   ]
  },
  {
   "cell_type": "markdown",
   "id": "9beb9333",
   "metadata": {},
   "source": [
    "- Mode"
   ]
  },
  {
   "cell_type": "code",
   "execution_count": 98,
   "id": "3ae6a7d0",
   "metadata": {},
   "outputs": [
    {
     "data": {
      "text/plain": [
       "0    0\n",
       "dtype: int64"
      ]
     },
     "execution_count": 98,
     "metadata": {},
     "output_type": "execute_result"
    }
   ],
   "source": [
    "df['New Cases'].mode()"
   ]
  },
  {
   "cell_type": "markdown",
   "id": "7f5ed3e0",
   "metadata": {},
   "source": [
    "### Variance"
   ]
  },
  {
   "cell_type": "markdown",
   "id": "9fd291df",
   "metadata": {},
   "source": [
    "- Range"
   ]
  },
  {
   "cell_type": "code",
   "execution_count": 99,
   "id": "4b67ee4f",
   "metadata": {},
   "outputs": [
    {
     "data": {
      "text/plain": [
       "56757"
      ]
     },
     "execution_count": 99,
     "metadata": {},
     "output_type": "execute_result"
    }
   ],
   "source": [
    "df['New Cases'].max()"
   ]
  },
  {
   "cell_type": "code",
   "execution_count": 100,
   "id": "b3c2a208",
   "metadata": {},
   "outputs": [
    {
     "data": {
      "text/plain": [
       "0"
      ]
     },
     "execution_count": 100,
     "metadata": {},
     "output_type": "execute_result"
    }
   ],
   "source": [
    "df['New Cases'].min()"
   ]
  },
  {
   "cell_type": "code",
   "execution_count": 101,
   "id": "73cc0f91",
   "metadata": {},
   "outputs": [
    {
     "name": "stdout",
     "output_type": "stream",
     "text": [
      "New Cases Range is :  56757\n"
     ]
    }
   ],
   "source": [
    "Range = df['New Cases'].max() - df['New Cases'].min()\n",
    "print('New Cases Range is : ',Range)"
   ]
  },
  {
   "cell_type": "markdown",
   "id": "7fad5903",
   "metadata": {},
   "source": [
    "- Variance"
   ]
  },
  {
   "cell_type": "code",
   "execution_count": 102,
   "id": "28812f37",
   "metadata": {},
   "outputs": [
    {
     "data": {
      "text/plain": [
       "4492069.6738659255"
      ]
     },
     "execution_count": 102,
     "metadata": {},
     "output_type": "execute_result"
    }
   ],
   "source": [
    "df['New Cases'].var()"
   ]
  },
  {
   "cell_type": "markdown",
   "id": "c06b0fa2",
   "metadata": {},
   "source": [
    "- Standard Deviation"
   ]
  },
  {
   "cell_type": "code",
   "execution_count": 103,
   "id": "8dfa5b06",
   "metadata": {},
   "outputs": [
    {
     "data": {
      "text/plain": [
       "2119.450323519267"
      ]
     },
     "execution_count": 103,
     "metadata": {},
     "output_type": "execute_result"
    }
   ],
   "source": [
    "df['New Cases'].std()"
   ]
  },
  {
   "cell_type": "markdown",
   "id": "b5743537",
   "metadata": {},
   "source": [
    "- Quantile 0.25"
   ]
  },
  {
   "cell_type": "code",
   "execution_count": 104,
   "id": "9b1ebe9d",
   "metadata": {},
   "outputs": [
    {
     "data": {
      "text/plain": [
       "8.0"
      ]
     },
     "execution_count": 104,
     "metadata": {},
     "output_type": "execute_result"
    }
   ],
   "source": [
    "df['New Cases'].quantile(0.25)"
   ]
  },
  {
   "cell_type": "markdown",
   "id": "21ddca60",
   "metadata": {},
   "source": [
    "- Quantile 0.5"
   ]
  },
  {
   "cell_type": "code",
   "execution_count": 105,
   "id": "4e675e75",
   "metadata": {},
   "outputs": [
    {
     "data": {
      "text/plain": [
       "45.0"
      ]
     },
     "execution_count": 105,
     "metadata": {},
     "output_type": "execute_result"
    }
   ],
   "source": [
    "df['New Cases'].quantile(0.5)"
   ]
  },
  {
   "cell_type": "markdown",
   "id": "e7e3f9cc",
   "metadata": {},
   "source": [
    "- Quantile 0.75"
   ]
  },
  {
   "cell_type": "code",
   "execution_count": 106,
   "id": "280ba390",
   "metadata": {},
   "outputs": [
    {
     "data": {
      "text/plain": [
       "161.0"
      ]
     },
     "execution_count": 106,
     "metadata": {},
     "output_type": "execute_result"
    }
   ],
   "source": [
    "df['New Cases'].quantile(0.75)"
   ]
  },
  {
   "cell_type": "markdown",
   "id": "bb683704",
   "metadata": {},
   "source": [
    "## Check the Value"
   ]
  },
  {
   "cell_type": "code",
   "execution_count": 107,
   "id": "c1b02063",
   "metadata": {
    "scrolled": true
   },
   "outputs": [
    {
     "data": {
      "text/plain": [
       "count    20816.000000\n",
       "mean       408.078257\n",
       "std       2119.450324\n",
       "min          0.000000\n",
       "25%          8.000000\n",
       "50%         45.000000\n",
       "75%        161.000000\n",
       "max      56757.000000\n",
       "Name: New Cases, dtype: float64"
      ]
     },
     "execution_count": 107,
     "metadata": {},
     "output_type": "execute_result"
    }
   ],
   "source": [
    "df['New Cases'].describe()"
   ]
  },
  {
   "cell_type": "code",
   "execution_count": null,
   "id": "908d5a37",
   "metadata": {},
   "outputs": [],
   "source": []
  }
 ],
 "metadata": {
  "kernelspec": {
   "display_name": "Python 3",
   "language": "python",
   "name": "python3"
  },
  "language_info": {
   "codemirror_mode": {
    "name": "ipython",
    "version": 3
   },
   "file_extension": ".py",
   "mimetype": "text/x-python",
   "name": "python",
   "nbconvert_exporter": "python",
   "pygments_lexer": "ipython3",
   "version": "3.8.8"
  }
 },
 "nbformat": 4,
 "nbformat_minor": 5
}
