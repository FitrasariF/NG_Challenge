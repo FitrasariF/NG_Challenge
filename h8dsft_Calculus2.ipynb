{
 "cells": [
  {
   "cell_type": "markdown",
   "id": "0444437e",
   "metadata": {},
   "source": [
    "# NG8 Fitrasari"
   ]
  },
  {
   "cell_type": "markdown",
   "id": "1be95155",
   "metadata": {},
   "source": [
    "## Nomor 1"
   ]
  },
  {
   "cell_type": "markdown",
   "id": "66d73897",
   "metadata": {},
   "source": [
    "**Carilah Integral dari fungsi berikut :**\n",
    "\n",
    "a . f(x) = 3x^2 - 6x + 3\n",
    "\n",
    "b. f(x) = 8x^3 - x^2 + 5x -1"
   ]
  },
  {
   "cell_type": "markdown",
   "id": "f5e82847",
   "metadata": {},
   "source": [
    "*a*"
   ]
  },
  {
   "cell_type": "code",
   "execution_count": 1,
   "id": "c4b99301",
   "metadata": {},
   "outputs": [],
   "source": [
    "import sympy as sy"
   ]
  },
  {
   "cell_type": "code",
   "execution_count": 5,
   "id": "0587cc3b",
   "metadata": {},
   "outputs": [],
   "source": [
    "x = sy.Symbol('x',real=True)\n",
    "fa = 3*x**2 - 6*x + 3"
   ]
  },
  {
   "cell_type": "code",
   "execution_count": 6,
   "id": "98aaeb11",
   "metadata": {},
   "outputs": [
    {
     "data": {
      "text/latex": [
       "$\\displaystyle x^{3} - 3 x^{2} + 3 x$"
      ],
      "text/plain": [
       "x**3 - 3*x**2 + 3*x"
      ]
     },
     "execution_count": 6,
     "metadata": {},
     "output_type": "execute_result"
    }
   ],
   "source": [
    "sy.integrate(fa)"
   ]
  },
  {
   "cell_type": "markdown",
   "id": "c1948b33",
   "metadata": {},
   "source": [
    "*b*"
   ]
  },
  {
   "cell_type": "code",
   "execution_count": 7,
   "id": "d5626e25",
   "metadata": {},
   "outputs": [
    {
     "data": {
      "text/latex": [
       "$\\displaystyle 2 x^{4} - \\frac{x^{3}}{3} + \\frac{5 x^{2}}{2} - x$"
      ],
      "text/plain": [
       "2*x**4 - x**3/3 + 5*x**2/2 - x"
      ]
     },
     "execution_count": 7,
     "metadata": {},
     "output_type": "execute_result"
    }
   ],
   "source": [
    "fb = 8*x**3 - x**2 + 5*x - 1\n",
    "sy.integrate(fb)"
   ]
  }
 ],
 "metadata": {
  "kernelspec": {
   "display_name": "Python 3",
   "language": "python",
   "name": "python3"
  },
  "language_info": {
   "codemirror_mode": {
    "name": "ipython",
    "version": 3
   },
   "file_extension": ".py",
   "mimetype": "text/x-python",
   "name": "python",
   "nbconvert_exporter": "python",
   "pygments_lexer": "ipython3",
   "version": "3.8.8"
  }
 },
 "nbformat": 4,
 "nbformat_minor": 5
}
